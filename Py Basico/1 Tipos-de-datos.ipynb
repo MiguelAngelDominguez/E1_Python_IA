{
 "cells": [
  {
   "attachments": {},
   "cell_type": "markdown",
   "id": "b00788a4",
   "metadata": {},
   "source": [
    "# Tipos de datos\n",
    "## Numeros\n",
    "\n",
    "numeros enteros"
   ]
  },
  {
   "cell_type": "code",
   "execution_count": 11,
   "id": "8dfeb7df",
   "metadata": {},
   "outputs": [
    {
     "data": {
      "text/plain": [
       "8"
      ]
     },
     "execution_count": 11,
     "metadata": {},
     "output_type": "execute_result"
    }
   ],
   "source": [
    "3\n",
    "3+5"
   ]
  },
  {
   "attachments": {},
   "cell_type": "markdown",
   "id": "ce3ce47d",
   "metadata": {},
   "source": [
    "Alamacenar numeros enteros"
   ]
  },
  {
   "cell_type": "code",
   "execution_count": 12,
   "id": "9f52b5cf",
   "metadata": {},
   "outputs": [
    {
     "name": "stdout",
     "output_type": "stream",
     "text": [
      "7\n"
     ]
    }
   ],
   "source": [
    "a = 3+4\n",
    "print(a)"
   ]
  },
  {
   "attachments": {},
   "cell_type": "markdown",
   "id": "5711b13a",
   "metadata": {},
   "source": [
    "Datos flotantes"
   ]
  },
  {
   "cell_type": "code",
   "execution_count": 13,
   "id": "eb02cf12",
   "metadata": {},
   "outputs": [
    {
     "name": "stdout",
     "output_type": "stream",
     "text": [
      "7.7\n"
     ]
    }
   ],
   "source": [
    "b = 2.3 + 5.4\n",
    "print(b)\n",
    "\n",
    "print(a+b) "
   ]
  },
  {
   "attachments": {},
   "cell_type": "markdown",
   "id": "da63b07a",
   "metadata": {},
   "source": [
    "Operaciones Basica"
   ]
  },
  {
   "cell_type": "code",
   "execution_count": 18,
   "id": "03565d78",
   "metadata": {},
   "outputs": [
    {
     "name": "stdout",
     "output_type": "stream",
     "text": [
      "5\n",
      "1\n",
      "2.5\n",
      "6\n",
      "0\n",
      "9\n"
     ]
    }
   ],
   "source": [
    "print(2+3)\n",
    "\n",
    "print(4-3)\n",
    "\n",
    "print(5/2)\n",
    "\n",
    "print(3*2)\n",
    "\n",
    "print(3%1)\n",
    "\n",
    "print(3**2)"
   ]
  },
  {
   "attachments": {},
   "cell_type": "markdown",
   "id": "4befaf21",
   "metadata": {},
   "source": [
    "Variables : Almacena un dato en memoria"
   ]
  },
  {
   "cell_type": "code",
   "execution_count": 19,
   "id": "4080b2d1",
   "metadata": {},
   "outputs": [
    {
     "name": "stdout",
     "output_type": "stream",
     "text": [
      "50\n"
     ]
    }
   ],
   "source": [
    "vida = 100\n",
    "daño = 50\n",
    "\n",
    "print(vida-daño)"
   ]
  },
  {
   "attachments": {},
   "cell_type": "markdown",
   "id": "c6a91c29",
   "metadata": {},
   "source": [
    "String : Agrupacion de caracteres"
   ]
  },
  {
   "cell_type": "code",
   "execution_count": 23,
   "id": "eaf8621c",
   "metadata": {},
   "outputs": [
    {
     "name": "stdout",
     "output_type": "stream",
     "text": [
      "h\n",
      "o\n"
     ]
    }
   ],
   "source": [
    "palabra = \"hola\"\n",
    "print(palabra[0])"
   ]
  },
  {
   "attachments": {},
   "cell_type": "markdown",
   "id": "f38edda7",
   "metadata": {},
   "source": [
    "Inmutabilida de cadenas"
   ]
  },
  {
   "cell_type": "code",
   "execution_count": 27,
   "id": "2193230b",
   "metadata": {},
   "outputs": [
    {
     "name": "stdout",
     "output_type": "stream",
     "text": [
      "Fam\n"
     ]
    }
   ],
   "source": [
    "name = \"Pam\"\n",
    "name = \"F\"+name[1:] \n",
    "print(name)"
   ]
  },
  {
   "cell_type": "code",
   "execution_count": 28,
   "id": "5fbbea9c",
   "metadata": {},
   "outputs": [
    {
     "name": "stdout",
     "output_type": "stream",
     "text": [
      "zzzzzzzzzz\n"
     ]
    }
   ],
   "source": [
    "letra = 'z'\n",
    "letra = 10*letra\n",
    "\n",
    "print(letra)"
   ]
  },
  {
   "attachments": {},
   "cell_type": "markdown",
   "id": "69c6ab10",
   "metadata": {},
   "source": [
    "no se puedehn sumar numeros con texto"
   ]
  },
  {
   "cell_type": "code",
   "execution_count": 35,
   "id": "3658cfd4",
   "metadata": {},
   "outputs": [
    {
     "name": "stdout",
     "output_type": "stream",
     "text": [
      "43\n"
     ]
    }
   ],
   "source": [
    "suma_texto = \"4\"+\"3\"\n",
    "print(suma_texto)\n",
    "\n",
    "# letra = \"3\" + 4\n",
    "# print(letra)"
   ]
  },
  {
   "attachments": {},
   "cell_type": "markdown",
   "id": "d802ed9c",
   "metadata": {},
   "source": [
    "Mayusculas y Minusculas"
   ]
  },
  {
   "cell_type": "code",
   "execution_count": 37,
   "metadata": {},
   "outputs": [
    {
     "name": "stdout",
     "output_type": "stream",
     "text": [
      "HOLA MUNDO\n",
      "hola mundo\n",
      "['hola', 'mundo']\n",
      "['h', 'la mund', '']\n"
     ]
    }
   ],
   "source": [
    "x = \"hola mundo\"\n",
    "print(x.upper()) # mayusculas\n",
    "print(x.lower()) # minusculas\n",
    "print(x.split()) # separa las palabras en una lista \n",
    "print(x.split(\"o\"))"
   ]
  }
 ],
 "metadata": {
  "kernelspec": {
   "display_name": "Python 3 (ipykernel)",
   "language": "python",
   "name": "python3"
  },
  "language_info": {
   "codemirror_mode": {
    "name": "ipython",
    "version": 3
   },
   "file_extension": ".py",
   "mimetype": "text/x-python",
   "name": "python",
   "nbconvert_exporter": "python",
   "pygments_lexer": "ipython3",
   "version": "3.8.16"
  }
 },
 "nbformat": 4,
 "nbformat_minor": 5
}
