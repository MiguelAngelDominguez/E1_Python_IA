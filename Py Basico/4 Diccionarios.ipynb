{
 "cells": [
  {
   "attachments": {},
   "cell_type": "markdown",
   "metadata": {},
   "source": [
    "# Diccionario"
   ]
  },
  {
   "cell_type": "code",
   "execution_count": 2,
   "metadata": {},
   "outputs": [
    {
     "name": "stdout",
     "output_type": "stream",
     "text": [
      "PLATANO\n",
      "{'manzana': '2.3', 'kekes': ['manzana', 'platano'], 'leche': '1.2', 'gaseosa': 200}\n"
     ]
    }
   ],
   "source": [
    "mi_diccionario = {'manzana':'2.3','kekes':['manzana','platano'],'leche':'1.2'}\n",
    "\n",
    "print(mi_diccionario['kekes'][1].upper())\n",
    "\n",
    "mi_diccionario['gaseosa']=200\n",
    "\n",
    "print(mi_diccionario)"
   ]
  },
  {
   "attachments": {},
   "cell_type": "markdown",
   "metadata": {},
   "source": [
    "Ver las llaves, valores y los items del diccionario"
   ]
  },
  {
   "cell_type": "code",
   "execution_count": 3,
   "metadata": {},
   "outputs": [
    {
     "name": "stdout",
     "output_type": "stream",
     "text": [
      "dict_keys(['manzana', 'kekes', 'leche'])\n",
      "dict_values(['2.3', ['manzana', 'platano'], '1.2'])\n",
      "dict_items([('manzana', '2.3'), ('kekes', ['manzana', 'platano']), ('leche', '1.2')])\n"
     ]
    }
   ],
   "source": [
    "mi_diccionario = {'manzana':'2.3','kekes':['manzana','platano'],'leche':'1.2'}\n",
    "print(mi_diccionario.keys())\n",
    "print(mi_diccionario.values())\n",
    "print(mi_diccionario.items())"
   ]
  }
 ],
 "metadata": {
  "kernelspec": {
   "display_name": "curso_python",
   "language": "python",
   "name": "python3"
  },
  "language_info": {
   "codemirror_mode": {
    "name": "ipython",
    "version": 3
   },
   "file_extension": ".py",
   "mimetype": "text/x-python",
   "name": "python",
   "nbconvert_exporter": "python",
   "pygments_lexer": "ipython3",
   "version": "3.8.16"
  },
  "orig_nbformat": 4
 },
 "nbformat": 4,
 "nbformat_minor": 2
}
