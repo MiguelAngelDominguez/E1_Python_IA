{
 "cells": [
  {
   "attachments": {},
   "cell_type": "markdown",
   "metadata": {},
   "source": [
    "## Tuplas"
   ]
  },
  {
   "cell_type": "code",
   "execution_count": 2,
   "metadata": {},
   "outputs": [
    {
     "name": "stdout",
     "output_type": "stream",
     "text": [
      "('a', 'b', 'a')\n",
      "['Nuevo', 3, 5]\n"
     ]
    }
   ],
   "source": [
    "t = ('a','b','a')\n",
    "\n",
    "listas = [1,3,5]\n",
    "\n",
    "# t[0] = 2\n",
    "listas[0] = 'Nuevo'\n",
    "\n",
    "print(t)\n",
    "print(listas)"
   ]
  },
  {
   "attachments": {},
   "cell_type": "markdown",
   "metadata": {},
   "source": [
    "## Set"
   ]
  },
  {
   "cell_type": "code",
   "execution_count": 7,
   "metadata": {},
   "outputs": [
    {
     "name": "stdout",
     "output_type": "stream",
     "text": [
      "{1, 2}\n",
      "{1, 2, 3, 4}\n"
     ]
    }
   ],
   "source": [
    "mi_set=set()\n",
    "\n",
    "mi_set.add(1)\n",
    "mi_set.add(2)\n",
    "mi_set.add(1)\n",
    "\n",
    "print(mi_set)\n",
    "\n",
    "milista=[1,1,1,1,2,3,4,2,2,3,2,4]\n",
    "\n",
    "mi_set= set(milista)\n",
    "print(mi_set)"
   ]
  }
 ],
 "metadata": {
  "kernelspec": {
   "display_name": "curso_python",
   "language": "python",
   "name": "python3"
  },
  "language_info": {
   "codemirror_mode": {
    "name": "ipython",
    "version": 3
   },
   "file_extension": ".py",
   "mimetype": "text/x-python",
   "name": "python",
   "nbconvert_exporter": "python",
   "pygments_lexer": "ipython3",
   "version": "3.8.16"
  },
  "orig_nbformat": 4
 },
 "nbformat": 4,
 "nbformat_minor": 2
}
