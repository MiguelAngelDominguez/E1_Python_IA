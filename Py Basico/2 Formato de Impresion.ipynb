{
 "cells": [
  {
   "attachments": {},
   "cell_type": "markdown",
   "metadata": {},
   "source": [
    "# Formato de impresion"
   ]
  },
  {
   "cell_type": "code",
   "execution_count": 2,
   "metadata": {},
   "outputs": [
    {
     "name": "stdout",
     "output_type": "stream",
     "text": [
      "bienvenido a la gigaarmi, Miguel\n",
      "bienvenido a la gigachad, Miguel\n",
      "bienvenido a la gigachad, Miguel\n"
     ]
    }
   ],
   "source": [
    "micadena = \"Miguel\"\n",
    "print(\"bienvenido a la gigaarmi, {}\".format(micadena))\n",
    "print(\"bienvenido a la {0}, {1}\".format(\"gigachad\",micadena))\n",
    "print(\"bienvenido a la {g}, {m}\".format(g=\"gigachad\",m=micadena))"
   ]
  },
  {
   "attachments": {},
   "cell_type": "markdown",
   "metadata": {},
   "source": [
    "Imprimir con f Strings"
   ]
  },
  {
   "cell_type": "code",
   "execution_count": 3,
   "metadata": {},
   "outputs": [
    {
     "name": "stdout",
     "output_type": "stream",
     "text": [
      "los resultados son Miguel\n"
     ]
    }
   ],
   "source": [
    "nombre = \"Miguel\"\n",
    "print(f\"los resultados son {nombre}\")"
   ]
  }
 ],
 "metadata": {
  "kernelspec": {
   "display_name": "curso_python",
   "language": "python",
   "name": "python3"
  },
  "language_info": {
   "codemirror_mode": {
    "name": "ipython",
    "version": 3
   },
   "file_extension": ".py",
   "mimetype": "text/x-python",
   "name": "python",
   "nbconvert_exporter": "python",
   "pygments_lexer": "ipython3",
   "version": "3.8.16"
  },
  "orig_nbformat": 4
 },
 "nbformat": 4,
 "nbformat_minor": 2
}
