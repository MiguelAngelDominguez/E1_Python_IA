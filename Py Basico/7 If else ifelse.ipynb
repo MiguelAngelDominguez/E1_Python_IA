{
 "cells": [
  {
   "attachments": {},
   "cell_type": "markdown",
   "metadata": {},
   "source": [
    "# If Elif y Else\n",
    "\n",
    "controla de flujo por desiciones logicas"
   ]
  },
  {
   "cell_type": "code",
   "execution_count": 20,
   "metadata": {},
   "outputs": [
    {
     "name": "stdout",
     "output_type": "stream",
     "text": [
      "temeos hambre y sed\n"
     ]
    }
   ],
   "source": [
    "hambre = True\n",
    "sed = True\n",
    "\n",
    "if hambre and not sed:\n",
    "    print(\"tenemos hambre\")\n",
    "elif hambre and sed:\n",
    "    print(\"temeos hambre y sed\")\n",
    "else:\n",
    "    print(\"estamos llenos\")"
   ]
  }
 ],
 "metadata": {
  "kernelspec": {
   "display_name": "curso_python",
   "language": "python",
   "name": "python3"
  },
  "language_info": {
   "codemirror_mode": {
    "name": "ipython",
    "version": 3
   },
   "file_extension": ".py",
   "mimetype": "text/x-python",
   "name": "python",
   "nbconvert_exporter": "python",
   "pygments_lexer": "ipython3",
   "version": "3.8.16"
  },
  "orig_nbformat": 4
 },
 "nbformat": 4,
 "nbformat_minor": 2
}
