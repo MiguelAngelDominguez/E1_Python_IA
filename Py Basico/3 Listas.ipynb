{
 "cells": [
  {
   "attachments": {},
   "cell_type": "markdown",
   "metadata": {},
   "source": [
    "# Listas"
   ]
  },
  {
   "cell_type": "code",
   "execution_count": 9,
   "metadata": {},
   "outputs": [
    {
     "name": "stdout",
     "output_type": "stream",
     "text": [
      "['hola', 2, 3, 4]\n",
      "4\n",
      "3\n",
      "[2, 3, 4]\n",
      "['hola', 2, 3, 4, 'chao', 2.3]\n",
      "['hola', 2, 3, 4, 'chao', 2.3]\n"
     ]
    }
   ],
   "source": [
    "mi_lista = [\"hola\",2,3,4]\n",
    "otra_lista = ['chao', 2.3]\n",
    "\n",
    "nueva_lista = mi_lista + otra_lista\n",
    "\n",
    "print(mi_lista)\n",
    "print(len(mi_lista))\n",
    "print(mi_lista[2])\n",
    "print(mi_lista[1:])\n",
    "# sumar listas\n",
    "print(mi_lista+otra_lista)\n",
    "print(nueva_lista)"
   ]
  },
  {
   "attachments": {},
   "cell_type": "markdown",
   "metadata": {},
   "source": [
    "Agregar y eliminar elementos de una lista"
   ]
  },
  {
   "cell_type": "code",
   "execution_count": 11,
   "metadata": {},
   "outputs": [
    {
     "name": "stdout",
     "output_type": "stream",
     "text": [
      "['hola', 3, 4, 'chao', 2.3, 'uwu']\n",
      "['hola', 3, 4, 'chao', 2.3]\n",
      "3\n",
      "['hola', 4, 'chao', 2.3]\n"
     ]
    }
   ],
   "source": [
    "nueva_lista.append(\"uwu\")\n",
    "print(nueva_lista)\n",
    "\n",
    "nueva_lista.pop()\n",
    "print(nueva_lista)\n",
    "\n",
    "item_tepeado=nueva_lista.pop(1)\n",
    "print(item_tepeado)\n",
    "print(nueva_lista)"
   ]
  },
  {
   "attachments": {},
   "cell_type": "markdown",
   "metadata": {},
   "source": [
    "Ordenar Listas"
   ]
  },
  {
   "cell_type": "code",
   "execution_count": 15,
   "metadata": {},
   "outputs": [
    {
     "name": "stdout",
     "output_type": "stream",
     "text": [
      "['a', 'f', 'r', 's', 'u', 'v', 'x']\n"
     ]
    }
   ],
   "source": [
    "mi_lista = [\"a\",\"x\",\"f\",\"r\",\"s\",\"u\",\"v\"]\n",
    "\n",
    "num_lista = [4,7,2,8,1,0]\n",
    "\n",
    "# el comando sort ordena los objetos de una lista\n",
    "mi_lista.sort()\n",
    "\n",
    "print(mi_lista)\n",
    "\n",
    "# el comando reverse sirve para ordenar de manera inversa\n",
    "mi_lista.reverse()\n",
    "print(mi_lista)"
   ]
  }
 ],
 "metadata": {
  "kernelspec": {
   "display_name": "curso_python",
   "language": "python",
   "name": "python3"
  },
  "language_info": {
   "codemirror_mode": {
    "name": "ipython",
    "version": 3
   },
   "file_extension": ".py",
   "mimetype": "text/x-python",
   "name": "python",
   "nbconvert_exporter": "python",
   "pygments_lexer": "ipython3",
   "version": "3.8.16"
  },
  "orig_nbformat": 4
 },
 "nbformat": 4,
 "nbformat_minor": 2
}
